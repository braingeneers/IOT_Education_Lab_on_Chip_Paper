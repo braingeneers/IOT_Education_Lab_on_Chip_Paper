from braingeneers.iot import messaging
import uuid
import json
import time as t
import ipywidgets as widgets

with open("HW_Group_xx.txt") as file:
	lines = file.readlines()
	test_file_content = json.dumps(lines)
	#print(test_file_content)
	
result = 0
result_struct = {}

result_struct['mode'] = 3
result_struct['param'] = test_file_content

mb = messaging.MessageBroker(str(uuid.uuid4))
mb.publish_message(topic="Sampad_Device", message = result_struct)